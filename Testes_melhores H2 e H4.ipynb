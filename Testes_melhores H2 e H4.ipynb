{
  "nbformat": 4,
  "nbformat_minor": 0,
  "metadata": {
    "colab": {
      "provenance": []
    },
    "kernelspec": {
      "name": "python3",
      "display_name": "Python 3"
    },
    "language_info": {
      "name": "python"
    }
  },
  "cells": [
    {
      "cell_type": "code",
      "execution_count": null,
      "metadata": {
        "colab": {
          "base_uri": "https://localhost:8080/",
          "height": 721
        },
        "id": "k3zDtcS3Jwsv",
        "outputId": "b1e9a351-146b-4aaa-9a88-049194e63c8f"
      },
      "outputs": [
        {
          "output_type": "stream",
          "name": "stdout",
          "text": [
            "Requirement already satisfied: qiskit==0.44.0 in /usr/local/lib/python3.11/dist-packages (0.44.0)\n",
            "Collecting qiskit-nature==0.6.2\n",
            "  Using cached qiskit_nature-0.6.2-py3-none-any.whl.metadata (7.4 kB)\n",
            "Requirement already satisfied: qiskit-terra==0.25.0 in /usr/local/lib/python3.11/dist-packages (from qiskit==0.44.0) (0.25.0)\n",
            "Requirement already satisfied: scipy>=1.4 in /usr/local/lib/python3.11/dist-packages (from qiskit-nature==0.6.2) (1.15.3)\n",
            "Requirement already satisfied: numpy>=1.17 in /usr/local/lib/python3.11/dist-packages (from qiskit-nature==0.6.2) (1.25.2)\n",
            "Requirement already satisfied: psutil>=5 in /usr/local/lib/python3.11/dist-packages (from qiskit-nature==0.6.2) (5.9.5)\n",
            "Requirement already satisfied: scikit-learn>=0.20.0 in /usr/local/lib/python3.11/dist-packages (from qiskit-nature==0.6.2) (1.6.1)\n",
            "Requirement already satisfied: setuptools>=40.1.0 in /usr/local/lib/python3.11/dist-packages (from qiskit-nature==0.6.2) (75.2.0)\n",
            "Requirement already satisfied: typing-extensions in /usr/local/lib/python3.11/dist-packages (from qiskit-nature==0.6.2) (4.14.0)\n",
            "Requirement already satisfied: h5py in /usr/local/lib/python3.11/dist-packages (from qiskit-nature==0.6.2) (3.13.0)\n",
            "Requirement already satisfied: rustworkx in /usr/local/lib/python3.11/dist-packages (from qiskit-nature==0.6.2) (0.16.0)\n",
            "Requirement already satisfied: ply>=3.10 in /usr/local/lib/python3.11/dist-packages (from qiskit-terra==0.25.0->qiskit==0.44.0) (3.11)\n",
            "Requirement already satisfied: sympy>=1.3 in /usr/local/lib/python3.11/dist-packages (from qiskit-terra==0.25.0->qiskit==0.44.0) (1.13.1)\n",
            "Requirement already satisfied: dill>=0.3 in /usr/local/lib/python3.11/dist-packages (from qiskit-terra==0.25.0->qiskit==0.44.0) (0.3.7)\n",
            "Requirement already satisfied: python-dateutil>=2.8.0 in /usr/local/lib/python3.11/dist-packages (from qiskit-terra==0.25.0->qiskit==0.44.0) (2.9.0.post0)\n",
            "Requirement already satisfied: stevedore>=3.0.0 in /usr/local/lib/python3.11/dist-packages (from qiskit-terra==0.25.0->qiskit==0.44.0) (5.4.1)\n",
            "Requirement already satisfied: symengine<0.10,>=0.9 in /usr/local/lib/python3.11/dist-packages (from qiskit-terra==0.25.0->qiskit==0.44.0) (0.9.2)\n",
            "Requirement already satisfied: joblib>=1.2.0 in /usr/local/lib/python3.11/dist-packages (from scikit-learn>=0.20.0->qiskit-nature==0.6.2) (1.5.1)\n",
            "Requirement already satisfied: threadpoolctl>=3.1.0 in /usr/local/lib/python3.11/dist-packages (from scikit-learn>=0.20.0->qiskit-nature==0.6.2) (3.6.0)\n",
            "Requirement already satisfied: six>=1.5 in /usr/local/lib/python3.11/dist-packages (from python-dateutil>=2.8.0->qiskit-terra==0.25.0->qiskit==0.44.0) (1.17.0)\n",
            "Requirement already satisfied: pbr>=2.0.0 in /usr/local/lib/python3.11/dist-packages (from stevedore>=3.0.0->qiskit-terra==0.25.0->qiskit==0.44.0) (6.1.1)\n",
            "Requirement already satisfied: mpmath<1.4,>=1.1.0 in /usr/local/lib/python3.11/dist-packages (from sympy>=1.3->qiskit-terra==0.25.0->qiskit==0.44.0) (1.3.0)\n",
            "Using cached qiskit_nature-0.6.2-py3-none-any.whl (4.1 MB)\n",
            "Installing collected packages: qiskit-nature\n",
            "  Attempting uninstall: qiskit-nature\n",
            "    Found existing installation: qiskit-nature 0.7.2\n",
            "    Uninstalling qiskit-nature-0.7.2:\n",
            "      Successfully uninstalled qiskit-nature-0.7.2\n",
            "\u001b[31mERROR: pip's dependency resolver does not currently take into account all the packages that are installed. This behaviour is the source of the following dependency conflicts.\n",
            "qiskit-nature-pyscf 0.4.0 requires qiskit-nature>=0.7.1, but you have qiskit-nature 0.6.2 which is incompatible.\u001b[0m\u001b[31m\n",
            "\u001b[0mSuccessfully installed qiskit-nature-0.6.2\n"
          ]
        },
        {
          "output_type": "display_data",
          "data": {
            "application/vnd.colab-display-data+json": {
              "pip_warning": {
                "packages": [
                  "qiskit_nature"
                ]
              },
              "id": "ab92d8274843496f8db4b650ff37f069"
            }
          },
          "metadata": {}
        },
        {
          "output_type": "stream",
          "name": "stdout",
          "text": [
            "\u001b[31mERROR: Operation cancelled by user\u001b[0m\u001b[31m\n",
            "\u001b[0m^C\n",
            "^C\n"
          ]
        }
      ],
      "source": [
        "#!pip uninstall qiskit qiskit-nature -y\n",
        "!pip install \"qiskit==0.44.0\" \"qiskit-nature==0.6.2\"\n",
        "!pip install qiskit-nature-pyscf\n",
        "!pip install numpy==1.25.2"
      ]
    },
    {
      "cell_type": "code",
      "source": [
        "from pyscf import gto, dft\n",
        "import numpy as np\n",
        "import os\n",
        "\n",
        "distancias = np.linspace(0.20, 3.00, 200)\n",
        "\n",
        "\n",
        "for d in distancias:\n",
        "    d_str = f\"{d:.2f}\".replace('.', '_')\n",
        "\n",
        "    mol = gto.M(\n",
        "        atom=f'H 0 0 0; H 0 0 {d}',\n",
        "        basis='sto-3g',\n",
        "        unit='Angstrom',\n",
        "        verbose = 0,\n",
        "    )\n",
        "\n",
        "    mf = dft.RKS(mol)\n",
        "    mf.xc = 'b3lyp'\n",
        "    mf.kernel()\n",
        "\n",
        "    n = mol.nao_nr()\n",
        "\n",
        "    hcore = mf.get_hcore()\n",
        "    eri_ao = mol.intor('int2e')\n",
        "    eri_ao_flat = eri_ao.reshape(n**2, n**2)  # 2x2 = 4\n",
        "    C = mf.mo_coeff\n",
        "\n",
        "    np.savetxt(f\"integral_1e_{d_str}.txt\", hcore, fmt=\"%.10f\")\n",
        "    np.savetxt(f\"integral_2e_{d_str}.txt\", eri_ao_flat, fmt=\"%.10f\")\n",
        "    np.savetxt(f\"coef_KS_{d_str}.txt\", C, fmt=\"%.10f\")"
      ],
      "metadata": {
        "id": "yVpgcFnCU3aP",
        "colab": {
          "base_uri": "https://localhost:8080/"
        },
        "outputId": "1f1f00a1-053a-4610-a972-b07487ef8db6"
      },
      "execution_count": null,
      "outputs": [
        {
          "output_type": "stream",
          "name": "stderr",
          "text": [
            "/usr/local/lib/python3.11/dist-packages/pyscf/dft/libxc.py:512: UserWarning: Since PySCF-2.3, B3LYP (and B3P86) are changed to the VWN-RPA variant, corresponding to the original definition by Stephens et al. (issue 1480) and the same as the B3LYP functional in Gaussian. To restore the VWN5 definition, you can put the setting \"B3LYP_WITH_VWN5 = True\" in pyscf_conf.py\n",
            "  warnings.warn('Since PySCF-2.3, B3LYP (and B3P86) are changed to the VWN-RPA variant, '\n"
          ]
        }
      ]
    },
    {
      "cell_type": "code",
      "source": [
        "import numpy as np\n",
        "\n",
        "\n",
        "distancias = np.linspace(0.20, 3.00, 200)\n",
        "\n",
        "for d in distancias:\n",
        "    d_str = f\"{d:.2f}\".replace('.', '_')\n",
        "\n",
        "    h_ao = np.loadtxt(f\"integral_1e_{d_str}.txt\")\n",
        "    eri_ao_flat = np.loadtxt(f\"integral_2e_{d_str}.txt\")\n",
        "    C = np.loadtxt(f\"coef_KS_{d_str}.txt\")\n",
        "\n",
        "    eri_ao = eri_ao_flat.reshape(2,2,2,2)\n",
        "\n",
        "    h_mo = C.T @ h_ao @ C\n",
        "    np.savetxt(f\"h_mo_{d_str}.txt\", h_mo, fmt=\"%.10f\")\n",
        "\n",
        "    g_mo = np.zeros((2, 2, 2, 2))\n",
        "    for i in range(2):\n",
        "        for j in range(2):\n",
        "            for k in range(2):\n",
        "                for l in range(2):\n",
        "                    for p in range(2):\n",
        "                        for q in range(2):\n",
        "                            for r in range(2):\n",
        "                                for s in range(2):\n",
        "                                    g_mo[i, j, k, l] += (\n",
        "                                    C[p, i] * C[r, k] *\n",
        "                                    eri_ao[p, r, q, s] *\n",
        "                                    C[q, j] * C[s, l]\n",
        "                                    )\n",
        "\n",
        "    np.savetxt(f\"g_mo_{d_str}.txt\", g_mo.reshape(4,4), fmt=\"%.10f\")\n"
      ],
      "metadata": {
        "id": "DL9okMk-KiPs"
      },
      "execution_count": null,
      "outputs": []
    },
    {
      "cell_type": "code",
      "source": [
        "import numpy as np\n",
        "import matplotlib.pyplot as plt\n",
        "from qiskit_nature.second_q.operators import FermionicOp\n",
        "from qiskit_nature.second_q.mappers import JordanWignerMapper\n",
        "from qiskit_algorithms import VQE\n",
        "from qiskit.circuit.library import EfficientSU2\n",
        "from qiskit.primitives import Estimator\n",
        "from qiskit_algorithms.optimizers import COBYLA\n",
        "from qiskit.opflow import PauliSumOp\n",
        "from qiskit.algorithms.optimizers import L_BFGS_B\n",
        "from pyscf import gto\n",
        "\n",
        "distancias = np.linspace(0.20,3,200)\n",
        "energias = []\n",
        "\n",
        "for d in distancias:\n",
        "    d_str = f\"{d:.2f}\".replace(\".\", \"_\")\n",
        "\n",
        "    mol = gto.M(atom=f\"H 0 0 0; H 0 0 {d}\",\n",
        "                basis=\"sto-3g\",\n",
        "                unit=\"Angstrom\"\n",
        "                )\n",
        "    energia_nuclear = mol.energy_nuc()\n",
        "\n",
        "\n",
        "    h_ks = np.loadtxt(f\"h_mo_{d_str}.txt\")\n",
        "\n",
        "    # Tensor g_ks fornecido\n",
        "    g_ks = np.loadtxt(f\"g_mo_{d_str}.txt\")\n",
        "    g_ks = g_ks.reshape(2, 2, 2, 2)\n",
        "\n",
        "    n_orb = h_ks.shape[0]\n",
        "    #Criação dos orbitais de spin\n",
        "    n_spin_orb = 2 * n_orb\n",
        "\n",
        "    # --- Termo de 1 elétron --- com a adição dos orbitais de spin\n",
        "    h1_dict = {}\n",
        "    for p in range(n_spin_orb):\n",
        "        for q in range(n_spin_orb):\n",
        "            if (p % 2) == (q % 2):\n",
        "                i, j = p // 2, q // 2\n",
        "                val = h_ks[i, j]\n",
        "                if abs(val) > 1e-10:\n",
        "                    h1_dict[f\"+_{p} -_{q}\"] = val\n",
        "\n",
        "    h1 = FermionicOp(h1_dict, num_spin_orbitals=n_spin_orb)\n",
        "\n",
        "    # --- Termo de 2 elétrons --- com a adição dos orbitais de spin\n",
        "    h2_dict = {}\n",
        "    for p in range(n_spin_orb):\n",
        "        for q in range(n_spin_orb):\n",
        "            for r in range(n_spin_orb):\n",
        "                for s in range(n_spin_orb):\n",
        "                    if (p % 2 == r % 2) and (q % 2 == s % 2):\n",
        "                        i, j, k, l = p // 2, q // 2, r // 2, s // 2\n",
        "                        val = g_ks[i, j, k, l]\n",
        "                        if abs(val) > 1e-10:\n",
        "                            h2_dict[f\"+_{p} +_{q} -_{s} -_{r}\"] = 0.5 * val\n",
        "\n",
        "    h2 = FermionicOp(h2_dict, num_spin_orbitals=n_spin_orb)\n",
        "\n",
        "    fermionico_op = h1 + h2\n",
        "\n",
        "    mapper = JordanWignerMapper()\n",
        "    qubit_op = mapper.map(fermionico_op)\n",
        "\n",
        "    #VQE\n",
        "    ansatz = EfficientSU2(num_qubits=qubit_op.num_qubits, reps = 6, entanglement = 'full')\n",
        "\n",
        "    vqe = VQE(\n",
        "        Estimator(),\n",
        "        ansatz=ansatz,\n",
        "        optimizer=COBYLA(maxiter = 400),\n",
        "        initial_point=[0.0] * ansatz.num_parameters\n",
        "    )\n",
        "\n",
        "    vqe_resultado = vqe.compute_minimum_eigenvalue(qubit_op)\n",
        "    energia_eletronica = vqe_resultado.eigenvalue.real\n",
        "    total_energy = energia_eletronica + energia_nuclear\n",
        "    energias.append(total_energy)\n",
        "\n",
        "plt.figure(figsize=(8, 6))\n",
        "plt.plot(distancias, energias)\n",
        "plt.title(\"Curva de Energia do H₂ (Base STO-3G)\")\n",
        "plt.xlabel(\"Distância internuclear (Å)\")\n",
        "plt.ylabel(\"Energia (Hartree)\")\n",
        "plt.grid(True)\n",
        "plt.show()\n",
        "\n",
        "# Encontrar o índice da menor energia\n",
        "idx_min = np.argmin(energias)\n",
        "\n",
        "# A menor energia e a distância correspondente\n",
        "energia_minima = energias[idx_min]\n",
        "distancia_minima = distancias[idx_min]\n",
        "\n",
        "print(f\"Menor energia: {energia_minima:.6f} Hartree\")\n",
        "print(f\"Distância correspondente: {distancia_minima:.6f} Å\")\n",
        "\n",
        "#print(\"\\nEnergia eletrônica (VQE):\", energia_eletronica)\n",
        "#print(\"Energia nuclear:\", energia_nuclear)\n",
        "#print(\"Energia total (VQE):\", total_energy)"
      ],
      "metadata": {
        "colab": {
          "base_uri": "https://localhost:8080/"
        },
        "id": "I4TwqKmiKpM-",
        "outputId": "77772c5b-a22a-4776-fa52-f60e95439107"
      },
      "execution_count": null,
      "outputs": [
        {
          "output_type": "display_data",
          "data": {
            "text/plain": [
              "<Figure size 800x600 with 1 Axes>"
            ],
            "image/png": "[encoded data removed]"
          },
          "metadata": {}
        },
        {
          "output_type": "stream",
          "name": "stdout",
          "text": [
            "Menor energia: -1.126781 Hartree\n",
            "Distância correspondente: 0.762814 Å\n"
          ]
        }
      ]
    },
    {
      "cell_type": "code",
      "source": [
        "import numpy as np\n",
        "from pyscf import gto, dft\n",
        "\n",
        "mol = gto.M(atom=f\"H 0 0 -0.74; H 0 0 0.74; H 0.74 0 0; H -0.74 0 0\",\n",
        "                basis=\"sto-3g\",\n",
        "                unit=\"Angstrom\",\n",
        "                verbose = 0\n",
        "                )\n",
        "\n",
        "energia_nuclear = mol.energy_nuc()\n",
        "\n",
        "\n",
        "mf = dft.RKS(mol)\n",
        "mf.xc = 'b3lyp'\n",
        "mf.kernel()\n",
        "\n",
        "hcore = mf.get_hcore()\n",
        "n = hcore.shape[0]\n",
        "eri_ao = mol.intor('int2e')\n",
        "eri_ao_flat = eri_ao.reshape(n**2, n**2)  # 2x2 = 4\n",
        "C = mf.mo_coeff\n",
        "\n",
        "np.savetxt(f\"integral_1e_H4.txt\", hcore, fmt=\"%.10f\")\n",
        "np.save(f\"integral_2e_H4.npy\",eri_ao)\n",
        "np.savetxt(f\"coef_KS_H4.txt\", C, fmt=\"%.10f\")\n"
      ],
      "metadata": {
        "id": "xjKNMsiqSAEj"
      },
      "execution_count": null,
      "outputs": []
    },
    {
      "cell_type": "code",
      "source": [
        "import numpy as np\n",
        "\n",
        "h_ao = np.loadtxt(\"integral_1e_H4.txt\")  # 2x2 #Base atomica\n",
        "eri_ao_flat = np.load(\"integral_2e_H4.npy\") #Base atômica\n",
        "C = np.loadtxt(f\"coef_KS_H4.txt\")\n",
        "\n",
        "#eri_ao = eri_ao_flat.reshape(4, 4, 4, 4)\n",
        "h_mo = C.T @ h_ao @ C\n",
        "\n",
        "g_mo = np.zeros((4, 4, 4, 4))\n",
        "\n",
        "for i in range(4):\n",
        "    for j in range(4):\n",
        "        for k in range(4):\n",
        "            for l in range(4):\n",
        "                for p in range(4):\n",
        "                    for q in range(4):\n",
        "                        for r in range(4):\n",
        "                            for s in range(4):\n",
        "                                g_mo[i, j, k, l] += (\n",
        "                                C[p, i] * C[r, k] *\n",
        "                                eri_ao[p, r, q, s] *\n",
        "                                C[q, j] * C[s, l]\n",
        "                                )\n",
        "\n",
        "\n",
        "np.savetxt(\"h_mo_H4.txt\", h_mo, fmt=\"%.10f\")\n",
        "np.save(\"g_mo_H4.npy\", g_mo)\n"
      ],
      "metadata": {
        "id": "umFFszfWWP8x"
      },
      "execution_count": null,
      "outputs": []
    },
    {
      "cell_type": "code",
      "source": [
        "import numpy as np\n",
        "from qiskit_nature.second_q.operators import FermionicOp\n",
        "from qiskit_nature.second_q.mappers import JordanWignerMapper\n",
        "from qiskit_algorithms import VQE\n",
        "from qiskit.circuit.library import EfficientSU2\n",
        "from qiskit.primitives import Estimator\n",
        "from qiskit_algorithms.optimizers import COBYLA\n",
        "from qiskit.algorithms.optimizers import L_BFGS_B\n",
        "from qiskit.opflow import PauliSumOp\n",
        "from qiskit.algorithms.optimizers import L_BFGS_B\n",
        "from pyscf import gto\n",
        "\n",
        "\n",
        "mol = gto.M(atom=f\"H 0 0 -0.74; H 0 0 0.74; H 0.74 0 0; H -0.74 0 0\",\n",
        "                basis=\"sto-3g\",\n",
        "                unit=\"Angstrom\"\n",
        "                )\n",
        "\n",
        "energia_nuclear = mol.energy_nuc()\n",
        "\n",
        "h_ks = np.loadtxt(f\"h_mo_H4.txt\")\n",
        "g_ks = np.load(f\"g_mo_H4.npy\")\n",
        "\n",
        "n_orb = h_ks.shape[0]\n",
        "\n",
        "n_spin_orb = 2 * n_orb\n",
        "\n",
        "    # --- Termo de 1 elétron --- com a adição dos orbitais de spin\n",
        "h1_dict = {}\n",
        "for p in range(n_spin_orb):\n",
        "      for q in range(n_spin_orb):\n",
        "        if (p % 2) == (q % 2):\n",
        "            i, j = p // 2, q // 2\n",
        "            val = h_ks[i, j]\n",
        "            if abs(val) > 1e-10:\n",
        "                h1_dict[f\"+_{p} -_{q}\"] = val\n",
        "\n",
        "h1 = FermionicOp(h1_dict, num_spin_orbitals=n_spin_orb)\n",
        "\n",
        "# --- Termo de 2 elétrons --- com a adição dos orbitais de spin\n",
        "h2_dict = {}\n",
        "for p in range(n_spin_orb):\n",
        "    for q in range(n_spin_orb):\n",
        "        for r in range(n_spin_orb):\n",
        "            for s in range(n_spin_orb):\n",
        "                if (p % 2 == r % 2) and (q % 2 == s % 2):\n",
        "                    i, j, k, l = p // 2, q // 2, r // 2, s // 2\n",
        "                    val = g_ks[i, j, k, l]\n",
        "                    if abs(val) > 1e-10:\n",
        "                        h2_dict[f\"+_{p} +_{q} -_{s} -_{r}\"] =  0.5 * val\n",
        "\n",
        "h2 = FermionicOp(h2_dict, num_spin_orbitals=n_spin_orb)\n",
        "\n",
        "fermionico_op = h1 + h2\n",
        "\n",
        "mapper = JordanWignerMapper()\n",
        "qubit_op = mapper.map(fermionico_op)\n",
        "\n",
        "#VQE\n",
        "ansatz = EfficientSU2(num_qubits=qubit_op.num_qubits, reps = 1, entanglement = 'full')\n",
        "\n",
        "vqe = VQE(\n",
        "    Estimator(),\n",
        "    ansatz=ansatz,\n",
        "    optimizer=COBYLA(maxiter = 400),\n",
        "    initial_point=[0.0] * ansatz.num_parameters\n",
        ")\n",
        "\n",
        "vqe_resultado = vqe.compute_minimum_eigenvalue(qubit_op)\n",
        "energia_eletronica = vqe_resultado.eigenvalue.real\n",
        "total_energy = energia_eletronica + energia_nuclear\n",
        "\n",
        "\n",
        "print(\"\\nEnergia eletrônica (VQE):\", energia_eletronica)\n",
        "print(\"Energia nuclear:\", energia_nuclear)\n",
        "print(\"Energia total (VQE):\", total_energy)\n"
      ],
      "metadata": {
        "colab": {
          "base_uri": "https://localhost:8080/"
        },
        "id": "bZVpWAyeV0Ih",
        "outputId": "012cf5a7-3ea4-45a2-cfb3-dd18f6a2546b"
      },
      "execution_count": null,
      "outputs": [
        {
          "output_type": "stream",
          "name": "stdout",
          "text": [
            "8\n",
            "\n",
            "Energia eletrônica (VQE): -4.611915873297651\n",
            "Energia nuclear: 2.7377248487617085\n",
            "Energia total (VQE): -1.8741910245359423\n"
          ]
        }
      ]
    },
    {
      "cell_type": "code",
      "source": [
        "from pyscf import gto, dft\n",
        "import numpy as np\n",
        "\n",
        "\n",
        "mol = gto.M(\n",
        "    atom=\"\"\"\n",
        "        H 0.00  0.00 -0.74\n",
        "        H 0.00  0.00  0.74\n",
        "        H 0.74  0.00  0.00\n",
        "        H -0.74 0.00  0.00\n",
        "    \"\"\",\n",
        "    basis=\"sto-3g\",\n",
        "    unit=\"Angstrom\",\n",
        "    verbose=0\n",
        ")\n",
        "\n",
        "mf = dft.RKS(mol)\n",
        "mf.xc = 'b3lyp'\n",
        "E_DFT = mf.kernel()\n",
        "\n",
        "print(f\"Energia total do H4 (DFT-B3LYP, sto-3g): {E_DFT:.8f} Ha\")\n"
      ],
      "metadata": {
        "colab": {
          "base_uri": "https://localhost:8080/"
        },
        "id": "ICbMPHwScitY",
        "outputId": "bc3b7c17-3810-4299-ef09-adef34f17ef5"
      },
      "execution_count": null,
      "outputs": [
        {
          "output_type": "stream",
          "name": "stderr",
          "text": [
            "/usr/local/lib/python3.11/dist-packages/pyscf/dft/libxc.py:512: UserWarning: Since PySCF-2.3, B3LYP (and B3P86) are changed to the VWN-RPA variant, corresponding to the original definition by Stephens et al. (issue 1480) and the same as the B3LYP functional in Gaussian. To restore the VWN5 definition, you can put the setting \"B3LYP_WITH_VWN5 = True\" in pyscf_conf.py\n",
            "  warnings.warn('Since PySCF-2.3, B3LYP (and B3P86) are changed to the VWN-RPA variant, '\n"
          ]
        },
        {
          "output_type": "stream",
          "name": "stdout",
          "text": [
            "Energia total do H4 (DFT-B3LYP, sto-3g): -1.92416038 Ha\n"
          ]
        }
      ]
    }
  ]
}